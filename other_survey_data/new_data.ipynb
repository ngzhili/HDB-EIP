{
 "cells": [
  {
   "cell_type": "code",
   "execution_count": 1,
   "metadata": {},
   "outputs": [],
   "source": [
    "import pandas as pd\n",
    "import numpy as np\n",
    "import random"
   ]
  },
  {
   "cell_type": "code",
   "execution_count": 2,
   "metadata": {},
   "outputs": [],
   "source": [
    "df = pd.read_csv(\"Dummy Data Responses.csv\")\n",
    "newDF = df.copy()"
   ]
  },
  {
   "cell_type": "code",
   "execution_count": 3,
   "metadata": {},
   "outputs": [],
   "source": [
    "allVals = dict()\n",
    "for x in newDF.columns:\n",
    "    allVals[x] = dict(newDF[x].value_counts())\n",
    "\n",
    "def update(index, col):\n",
    "    val, left = random.choice(list(allVals[col].items()))\n",
    "    newDF.at[index, col] = val\n",
    "    if (left == 1):\n",
    "        allVals[col].pop(val)"
   ]
  },
  {
   "cell_type": "code",
   "execution_count": 4,
   "metadata": {},
   "outputs": [
    {
     "data": {
      "text/plain": [
       "{1: 2,\n",
       " 2: 4,\n",
       " 4: 7,\n",
       " 7: 12,\n",
       " 12: 15,\n",
       " 15: 20,\n",
       " 20: 23,\n",
       " 23: 27,\n",
       " 27: 33,\n",
       " 33: 36,\n",
       " 36: 39,\n",
       " 39: 42,\n",
       " 42: 45}"
      ]
     },
     "execution_count": 4,
     "metadata": {},
     "output_type": "execute_result"
    }
   ],
   "source": [
    "cols = '''COL1\tCOL2\tCOL3\tCOL4\tCOL5\tCOL6\tCOL7\tCOL8\tCOL9\tCOL10\tCOL11\tCOL12\tCOL13\tCOL14\tCOL15\tCOL16\tCOL17\tCOL18\tCOL19\tCOL20\tCOL21\tCOL22\tCOL23\tCOL24\tCOL25\tCOL26\tCOL27\tCOL28\tCOL29\tCOL30\tCOL31\tCOL32\tCOL33\tCOL34\tCOL35\tCOL36\tCOL37\tCOL38\tCOL39\tCOL40\tCOL41\tCOL42\tCOL43\tCOL44'''\n",
    "colsDict = {}\n",
    "for x, y in enumerate(cols.split()):\n",
    "    colsDict[x+1] = y\n",
    "toRemove = [3, 5, 6, 8, 9, 10, 11, 13, 14, 16, 17, 18, 19, 21, 22, 24, 25, 26, 28, 29, 30, 31, 32, 34, 35, 37, 38, 40, 41, 43, 44]\n",
    "for x in toRemove:\n",
    "    colsDict.pop(x)\n",
    "def findNext(x):\n",
    "    a = x + 1\n",
    "    while (a not in colsDict and a < 45):\n",
    "        a += 1\n",
    "    colsDict[x] = a\n",
    "for i in sorted(colsDict.keys(), reverse=True):\n",
    "    findNext(i)\n",
    "colsDict"
   ]
  },
  {
   "cell_type": "code",
   "execution_count": 5,
   "metadata": {},
   "outputs": [],
   "source": [
    "# start is key, value is dict with key of selection and value of freq\n",
    "freqTable = {}\n",
    "for i in newDF.COL2.unique():\n",
    "  freqTable[i] = {}\n",
    "  for k in colsDict.keys():\n",
    "      freqTable[i][k] = {}"
   ]
  },
  {
   "cell_type": "code",
   "execution_count": 6,
   "metadata": {},
   "outputs": [
    {
     "name": "stdout",
     "output_type": "stream",
     "text": [
      "22\n"
     ]
    }
   ],
   "source": [
    "for index, row in newDF.iterrows():\n",
    "    print(row.COL1)\n",
    "    break"
   ]
  },
  {
   "cell_type": "code",
   "execution_count": 7,
   "metadata": {},
   "outputs": [],
   "source": [
    "for index, row in newDF.iterrows():\n",
    "    for start, end in colsDict.items():\n",
    "        toAppend = [] \n",
    "        for i in range(start, end):\n",
    "            toAppend.append(newDF.at[index, \"COL\"+str(i)])\n",
    "        if tuple(toAppend) not in freqTable[row.COL2][start]:\n",
    "            freqTable[row.COL2][start][tuple(toAppend)] = 1\n",
    "        else:\n",
    "            freqTable[row.COL2][start][tuple(toAppend)] += 1"
   ]
  },
  {
   "cell_type": "code",
   "execution_count": 9,
   "metadata": {},
   "outputs": [
    {
     "data": {
      "text/plain": [
       "{1: {(27,): 1, (30,): 1},\n",
       " 2: {('Malay', 'Singaporean'): 2},\n",
       " 4: {('Ang Mo Kio', 'Public Housing (HDB)', '4-Room'): 1,\n",
       "  ('Bedok', 'Public Housing (HDB)', '5-Room'): 1},\n",
       " 7: {('0', '0', 0.0, 0.0, 0.0): 1, ('1 to 10', '0', 5.5, 0.0, 0.0): 1},\n",
       " 12: {('Never', 'Never', 'No friends in neighbourhood'): 1,\n",
       "  ('Sometimes', 'Never', 'Neighbourhood Park/Playground/Fitness Corner'): 1},\n",
       " 15: {('Sometimes', 'Sometimes', 'Sometimes', 'Never', 'No neighbours'): 1,\n",
       "  ('Sometimes',\n",
       "   'Never',\n",
       "   'Sometimes',\n",
       "   'Never',\n",
       "   'Neighbourhood Park/Playground/Fitness Corner'): 1},\n",
       " 20: {('Somewhat disagree', 'Somewhat agree', 'Somewhat agree'): 1,\n",
       "  ('Neither agree nor disagree', 'Somewhat agree', 'Somewhat agree'): 1},\n",
       " 23: {('Sometimes',\n",
       "   'About half the time',\n",
       "   'Very frequently',\n",
       "   'About half the time'): 1,\n",
       "  ('Very frequently',\n",
       "   'Very frequently',\n",
       "   'Very frequently',\n",
       "   'Very frequently'): 1},\n",
       " 27: {('11 to 20',\n",
       "   '1 to 10',\n",
       "   15.5,\n",
       "   5.5,\n",
       "   0.35,\n",
       "   'shopping malls, restaurants, friends house'): 1,\n",
       "  ('21 to 30', '11 to 20', 25.5, 15.5, 0.61, 'School / Work'): 1},\n",
       " 33: {('Somewhat agree', 'Somewhat agree', 'Somewhat agree'): 1,\n",
       "  ('Strongly agree', 'Strongly agree', 'Strongly agree'): 1},\n",
       " 36: {('MRT Stations', 'Bus Stops', 'Shopping Mall'): 1,\n",
       "  ('Hawker Centre', 'Bus Stops', 'MRT stations'): 1},\n",
       " 39: {('School Curriculum', 'School Reputation', 'Subjects Offered'): 1,\n",
       "  ('School Reputation', 'School Curriculum', 'Subjects Offered'): 1},\n",
       " 42: {('Neutral', 'NIL', 'NIL'): 1,\n",
       "  ('Somewhat Necessary', 'Prevent racial enclaves from forming', 'NIL'): 1}}"
      ]
     },
     "execution_count": 9,
     "metadata": {},
     "output_type": "execute_result"
    }
   ],
   "source": [
    "freqTable['Malay']"
   ]
  },
  {
   "cell_type": "code",
   "execution_count": 74,
   "metadata": {},
   "outputs": [],
   "source": [
    "for index, row in newDF.iterrows():\n",
    "    for start, end in colsDict.items():\n",
    "        choice, freq = random.choice(list(freqTable[row.COL2][start].items()))\n",
    "        for i in range(start, end):\n",
    "            newDF.at[index, \"COL\"+str(i)] = choice[i-start]\n",
    "        if freq == 1:\n",
    "            freqTable[row.COL2][start].pop(choice)\n",
    "        else:\n",
    "            freqTable[row.COL2][start][choice] -= 1"
   ]
  },
  {
   "cell_type": "code",
   "execution_count": 77,
   "metadata": {},
   "outputs": [],
   "source": [
    "pd.concat([df, newDF]).to_csv(\"generated.csv\")"
   ]
  }
 ],
 "metadata": {
  "kernelspec": {
   "display_name": "base",
   "language": "python",
   "name": "python3"
  },
  "language_info": {
   "codemirror_mode": {
    "name": "ipython",
    "version": 3
   },
   "file_extension": ".py",
   "mimetype": "text/x-python",
   "name": "python",
   "nbconvert_exporter": "python",
   "pygments_lexer": "ipython3",
   "version": "3.9.12"
  },
  "orig_nbformat": 4,
  "vscode": {
   "interpreter": {
    "hash": "5fe6ff752e854a966d90866b99421fca72347ab68f53913d174ef1f59840c181"
   }
  }
 },
 "nbformat": 4,
 "nbformat_minor": 2
}
