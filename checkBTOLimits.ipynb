{
 "cells": [
  {
   "cell_type": "code",
   "execution_count": 1,
   "metadata": {},
   "outputs": [],
   "source": [
    "from selenium import webdriver\n",
    "from selenium.webdriver.chrome.options import Options as ChromeOptions\n",
    "from selenium.webdriver.firefox.options import Options as FirefoxOptions\n",
    "from selenium.webdriver.support.ui import WebDriverWait\n",
    "from selenium.webdriver.support import expected_conditions as EC\n",
    "from selenium.webdriver.common.by import By\n",
    "from selenium.common.exceptions import NoSuchElementException, TimeoutException, InvalidSessionIdException, SessionNotCreatedException, NoSuchFrameException\n",
    "from selenium.webdriver.remote import webelement\n",
    "from selenium.webdriver.common.keys import Keys\n",
    "from selenium.webdriver.common.action_chains import ActionChains\n",
    "import numpy as np\n",
    "import csv\n",
    "import pandas as pd\n",
    "import os\n",
    "import time\n",
    "import pyperclip as pc\n",
    "import math\n",
    "from xml.dom.minidom import Attr\n",
    "from urllib3.exceptions import MaxRetryError\n",
    "\n",
    "from webdriver_manager.chrome import ChromeDriverManager\n",
    "# from webdriver_manager.firefox import FirefoxDriverManager\n",
    "from webdriver_manager.firefox import GeckoDriverManager"
   ]
  },
  {
   "cell_type": "code",
   "execution_count": 2,
   "metadata": {},
   "outputs": [],
   "source": [
    "data_source = \"./bto_limits.csv\"\n",
    "url = \"https://services2.hdb.gov.sg/webapp/BB29ETHN/BB29STREET\"\n",
    "pd.set_option('display.max_colwidth', None)"
   ]
  },
  {
   "cell_type": "markdown",
   "metadata": {},
   "source": [
    "# Initialize Scraper"
   ]
  },
  {
   "cell_type": "code",
   "execution_count": 56,
   "metadata": {},
   "outputs": [],
   "source": [
    "class Scraper:\n",
    "    def __init__(self, url, data_source):\n",
    "        # options = FirefoxOptions()\n",
    "        # options.headless = True\n",
    "        options = ChromeOptions()\n",
    "        options.add_argument(\"--headless\")\n",
    "        # self.webdriver: webdriver.Safari = webdriver.Safari()\n",
    "        # self.webdriver: webdriver.Firefox = webdriver.Chrome(GeckoDriverManager().install(), options=options)\n",
    "        self.webdriver: webdriver.Chrome = webdriver.Chrome(ChromeDriverManager().install(), options=options)\n",
    "        self.webdriver.set_window_size(2000, 1000)\n",
    "        self.webdriver.get(url)\n",
    "        self.webdriver.implicitly_wait(2)\n",
    "        self.properties = pd.read_csv(data_source, \\\n",
    "                                                engine='python', \\\n",
    "                                                encoding=\"ISO-8859-1\",\n",
    "                                                header=0)\n",
    "        self.enquire_as_map = {'seller': \"enqBySeller\", 'buyer': \"enqByBuyer\"}\n",
    "        self.ethnic_map = {'chinese': '//*[@id=\"ethGroupChinese\"]',\n",
    "                           'malay': '//*[@id=\"ethGroupMalay\"]',\n",
    "                           'indian': '//*[@id=\"ethGroupInd\"]'}\n",
    "        self.ethnic_map2 = {'chinese': '//*[@id=\"ethGroupLrgChinese\"]',\n",
    "                           'malay': '//*[@id=\"ethGroupLrgMalay\"]',\n",
    "                           'indian': '//*[@id=\"ethGroupLrgInd\"]'}\n",
    "\n",
    "    \n",
    "    def query(self, enquire_as: str, postal_code: int, ethnic_group: str) -> str:\n",
    "        WebDriverWait(self.webdriver, 5).until(EC.element_to_be_clickable((By.ID, 'btnProceed')))\n",
    "        print(enquire_as, postal_code, ethnic_group)\n",
    "        ActionChains(self.webdriver).move_to_element( \\\n",
    "                        self.webdriver.find_element_by_id( \\\n",
    "                        self.enquire_as_map[enquire_as])).perform()\n",
    "        self.webdriver.find_element_by_id(self.enquire_as_map[enquire_as]).click()\n",
    "        self.webdriver.find_element_by_id('postalCde').send_keys(Keys.COMMAND + \"a\")\n",
    "        self.webdriver.find_element_by_id('postalCde').send_keys(Keys.DELETE)\n",
    "        pc.copy(postal_code)\n",
    "        time.sleep(0.5)\n",
    "        ActionChains(self.webdriver) \\\n",
    "            .key_down(Keys.COMMAND) \\\n",
    "            .key_down('v') \\\n",
    "            .key_up('v') \\\n",
    "            .key_up(Keys.COMMAND) \\\n",
    "            .perform()\n",
    "        # print(postal_code)\n",
    "        self.webdriver.execute_script(\"window.scrollTo(0, document.body.scrollHeight);\")\n",
    "        # ActionChains(self.webdriver).move_to_element( \\\n",
    "        #                 self.webdriver.find_element_by_xpath( \\\n",
    "        #                 self.ethnic_map[ethnic_group])).perform()\n",
    "        WebDriverWait(self.webdriver, 5).until(EC.element_to_be_clickable((By.ID, 'ethGroupLrgChinese')))\n",
    "        self.webdriver.find_element_by_xpath(self.ethnic_map2[ethnic_group]).click()\n",
    "        # print(ethnic_group)\n",
    "        # WebDriverWait(self.webdriver, 5).until(EC.presence_of_element_located((By.ID, '//*[@id=\"citizenSing\"]')))\n",
    "        ActionChains(self.webdriver).move_to_element( \\\n",
    "                        self.webdriver.find_element_by_xpath( \\\n",
    "                        '//*[@id=\"citizenSing\"]')).perform()\n",
    "        self.webdriver.find_element_by_xpath('//*[@id=\"citizenSing\"]').click()\n",
    "        ActionChains(self.webdriver).move_to_element( \\\n",
    "                        self.webdriver.find_element_by_id( \\\n",
    "                        'btnProceed')).perform()\n",
    "        self.webdriver.find_element_by_id(\"btnProceed\").click()\n",
    "        time.sleep(1)\n",
    "        print(self.webdriver.current_url)\n",
    "        try:\n",
    "            WebDriverWait(self.webdriver, 2).until(EC.presence_of_element_located((By.XPATH, '//*[@id=\"rcdNotFndForm\"]/div[2]/div/div/h4')))\n",
    "            # self.webdriver.find_element_by_xpath('//*[@id=\"rcdNotFndForm\"]/div[2]/div/div/h4')\n",
    "            print(\"block doesn't exist\")\n",
    "            self.webdriver.back()\n",
    "            WebDriverWait(self.webdriver, 5).until(EC.element_to_be_clickable((By.ID, \"btnProceed\")))\n",
    "            return 'no records found'\n",
    "        except TimeoutException:\n",
    "            print(\"has record\")\n",
    "        if \"buyer\" in enquire_as:\n",
    "            try:\n",
    "                WebDriverWait(self.webdriver, 5).until(EC.presence_of_element_located((By.XPATH, '//*[@id=\"print\"]/div[3]/div/table/tbody/tr/td[2]')))\n",
    "                ActionChains(self.webdriver).move_to_element( \\\n",
    "                        self.webdriver.find_element_by_xpath( \\\n",
    "                        '//*[@id=\"print\"]/div[3]/div/table/tbody/tr/td[2]')).perform()\n",
    "            except NoSuchFrameException:\n",
    "                print(\"no such frame lor\")\n",
    "            text = self.webdriver.find_element_by_xpath('//*[@id=\"print\"]/div[3]/div/table/tbody/tr/td[2]').text\n",
    "        else:\n",
    "            try:\n",
    "                WebDriverWait(self.webdriver, 5).until(EC.presence_of_element_located((By.XPATH, '//*[@id=\"print\"]/div[3]/div/div/div/div/p')))\n",
    "                ActionChains(self.webdriver).move_to_element( \\\n",
    "                        self.webdriver.find_element_by_xpath( \\\n",
    "                        '//*[@id=\"print\"]/div[3]/div/div/div/div/p')).perform()\n",
    "            except NoSuchFrameException:\n",
    "                print(\"no such frame lor\")\n",
    "            text = self.webdriver.find_element_by_xpath('//*[@id=\"print\"]/div[3]/div/div/div/div/p').text\n",
    "        print(text)\n",
    "        self.webdriver.back()\n",
    "        WebDriverWait(self.webdriver, 5).until(EC.element_to_be_clickable((By.ID, \"btnProceed\")))\n",
    "        return text\n",
    "\n",
    "    def query_HDB(self, index:int, postal_code: int, isNone = False) -> None:\n",
    "        if isNone:\n",
    "            for i in self.properties.columns[1:]:\n",
    "                self.properties.at[index, i] = \"Hi\"\n",
    "        else:\n",
    "            for i in self.properties.columns[1:]:\n",
    "                print(index)\n",
    "                ethnic_group, enquire_as = i.split(\"_\")\n",
    "                res = self.query(enquire_as=enquire_as, postal_code=postal_code, ethnic_group=ethnic_group)\n",
    "                self.properties.at[index, i] = res\n",
    "\n",
    "    def query_all(self) -> None:\n",
    "        for index, row in self.properties.iterrows():\n",
    "            if row.isnull().any():\n",
    "                print(index)\n",
    "            # print(index)\n",
    "            # print(math.isnan(row.indian_seller))\n",
    "            # print(row.isnull().any())\n",
    "            # print(row.indian_seller.isnull())\n",
    "            if not row.isnull().any():\n",
    "                continue\n",
    "            else:\n",
    "                self.query_HDB(index, row.POSTAL, not row.POSTAL)"
   ]
  },
  {
   "cell_type": "code",
   "execution_count": 57,
   "metadata": {},
   "outputs": [
    {
     "name": "stdout",
     "output_type": "stream",
     "text": [
      "700\n",
      "700\n",
      "buyer 752126 chinese\n",
      "https://services2.hdb.gov.sg/webapp/BB29ETHN/BB29STREET\n",
      "has record\n"
     ]
    },
    {
     "ename": "TimeoutException",
     "evalue": "Message: \n",
     "output_type": "error",
     "traceback": [
      "\u001b[0;31m---------------------------------------------------------------------------\u001b[0m",
      "\u001b[0;31mTimeoutException\u001b[0m                          Traceback (most recent call last)",
      "\u001b[1;32m/Users/menghuiwu/Desktop/ISM/HDB-EIP/checkBTOLimits.ipynb Cell 5\u001b[0m in \u001b[0;36m<cell line: 2>\u001b[0;34m()\u001b[0m\n\u001b[1;32m      <a href='vscode-notebook-cell:/Users/menghuiwu/Desktop/ISM/HDB-EIP/checkBTOLimits.ipynb#X10sZmlsZQ%3D%3D?line=0'>1</a>\u001b[0m scraper \u001b[39m=\u001b[39m Scraper(url, data_source)\n\u001b[0;32m----> <a href='vscode-notebook-cell:/Users/menghuiwu/Desktop/ISM/HDB-EIP/checkBTOLimits.ipynb#X10sZmlsZQ%3D%3D?line=1'>2</a>\u001b[0m scraper\u001b[39m.\u001b[39;49mquery_all()\n\u001b[1;32m      <a href='vscode-notebook-cell:/Users/menghuiwu/Desktop/ISM/HDB-EIP/checkBTOLimits.ipynb#X10sZmlsZQ%3D%3D?line=2'>3</a>\u001b[0m scraper\u001b[39m.\u001b[39mproperties\u001b[39m.\u001b[39mto_csv(\u001b[39m\"\u001b[39m\u001b[39mbto_limits.csv\u001b[39m\u001b[39m\"\u001b[39m, index\u001b[39m=\u001b[39m\u001b[39mFalse\u001b[39;00m, encoding\u001b[39m=\u001b[39m\u001b[39m\"\u001b[39m\u001b[39mISO-8859-1\u001b[39m\u001b[39m\"\u001b[39m)\n",
      "\u001b[1;32m/Users/menghuiwu/Desktop/ISM/HDB-EIP/checkBTOLimits.ipynb Cell 5\u001b[0m in \u001b[0;36mScraper.query_all\u001b[0;34m(self)\u001b[0m\n\u001b[1;32m    <a href='vscode-notebook-cell:/Users/menghuiwu/Desktop/ISM/HDB-EIP/checkBTOLimits.ipynb#X10sZmlsZQ%3D%3D?line=113'>114</a>\u001b[0m     \u001b[39mcontinue\u001b[39;00m\n\u001b[1;32m    <a href='vscode-notebook-cell:/Users/menghuiwu/Desktop/ISM/HDB-EIP/checkBTOLimits.ipynb#X10sZmlsZQ%3D%3D?line=114'>115</a>\u001b[0m \u001b[39melse\u001b[39;00m:\n\u001b[0;32m--> <a href='vscode-notebook-cell:/Users/menghuiwu/Desktop/ISM/HDB-EIP/checkBTOLimits.ipynb#X10sZmlsZQ%3D%3D?line=115'>116</a>\u001b[0m     \u001b[39mself\u001b[39;49m\u001b[39m.\u001b[39;49mquery_HDB(index, row\u001b[39m.\u001b[39;49mPOSTAL, \u001b[39mnot\u001b[39;49;00m row\u001b[39m.\u001b[39;49mPOSTAL)\n",
      "\u001b[1;32m/Users/menghuiwu/Desktop/ISM/HDB-EIP/checkBTOLimits.ipynb Cell 5\u001b[0m in \u001b[0;36mScraper.query_HDB\u001b[0;34m(self, index, postal_code, isNone)\u001b[0m\n\u001b[1;32m    <a href='vscode-notebook-cell:/Users/menghuiwu/Desktop/ISM/HDB-EIP/checkBTOLimits.ipynb#X10sZmlsZQ%3D%3D?line=99'>100</a>\u001b[0m \u001b[39mprint\u001b[39m(index)\n\u001b[1;32m    <a href='vscode-notebook-cell:/Users/menghuiwu/Desktop/ISM/HDB-EIP/checkBTOLimits.ipynb#X10sZmlsZQ%3D%3D?line=100'>101</a>\u001b[0m ethnic_group, enquire_as \u001b[39m=\u001b[39m i\u001b[39m.\u001b[39msplit(\u001b[39m\"\u001b[39m\u001b[39m_\u001b[39m\u001b[39m\"\u001b[39m)\n\u001b[0;32m--> <a href='vscode-notebook-cell:/Users/menghuiwu/Desktop/ISM/HDB-EIP/checkBTOLimits.ipynb#X10sZmlsZQ%3D%3D?line=101'>102</a>\u001b[0m res \u001b[39m=\u001b[39m \u001b[39mself\u001b[39;49m\u001b[39m.\u001b[39;49mquery(enquire_as\u001b[39m=\u001b[39;49menquire_as, postal_code\u001b[39m=\u001b[39;49mpostal_code, ethnic_group\u001b[39m=\u001b[39;49methnic_group)\n\u001b[1;32m    <a href='vscode-notebook-cell:/Users/menghuiwu/Desktop/ISM/HDB-EIP/checkBTOLimits.ipynb#X10sZmlsZQ%3D%3D?line=102'>103</a>\u001b[0m \u001b[39mself\u001b[39m\u001b[39m.\u001b[39mproperties\u001b[39m.\u001b[39mat[index, i] \u001b[39m=\u001b[39m res\n",
      "\u001b[1;32m/Users/menghuiwu/Desktop/ISM/HDB-EIP/checkBTOLimits.ipynb Cell 5\u001b[0m in \u001b[0;36mScraper.query\u001b[0;34m(self, enquire_as, postal_code, ethnic_group)\u001b[0m\n\u001b[1;32m     <a href='vscode-notebook-cell:/Users/menghuiwu/Desktop/ISM/HDB-EIP/checkBTOLimits.ipynb#X10sZmlsZQ%3D%3D?line=70'>71</a>\u001b[0m \u001b[39mif\u001b[39;00m \u001b[39m\"\u001b[39m\u001b[39mbuyer\u001b[39m\u001b[39m\"\u001b[39m \u001b[39min\u001b[39;00m enquire_as:\n\u001b[1;32m     <a href='vscode-notebook-cell:/Users/menghuiwu/Desktop/ISM/HDB-EIP/checkBTOLimits.ipynb#X10sZmlsZQ%3D%3D?line=71'>72</a>\u001b[0m     \u001b[39mtry\u001b[39;00m:\n\u001b[0;32m---> <a href='vscode-notebook-cell:/Users/menghuiwu/Desktop/ISM/HDB-EIP/checkBTOLimits.ipynb#X10sZmlsZQ%3D%3D?line=72'>73</a>\u001b[0m         WebDriverWait(\u001b[39mself\u001b[39;49m\u001b[39m.\u001b[39;49mwebdriver, \u001b[39m5\u001b[39;49m)\u001b[39m.\u001b[39;49muntil(EC\u001b[39m.\u001b[39;49mpresence_of_element_located((By\u001b[39m.\u001b[39;49mXPATH, \u001b[39m'\u001b[39;49m\u001b[39m//*[@id=\u001b[39;49m\u001b[39m\"\u001b[39;49m\u001b[39mprint\u001b[39;49m\u001b[39m\"\u001b[39;49m\u001b[39m]/div[3]/div/table/tbody/tr/td[2]\u001b[39;49m\u001b[39m'\u001b[39;49m)))\n\u001b[1;32m     <a href='vscode-notebook-cell:/Users/menghuiwu/Desktop/ISM/HDB-EIP/checkBTOLimits.ipynb#X10sZmlsZQ%3D%3D?line=73'>74</a>\u001b[0m         ActionChains(\u001b[39mself\u001b[39m\u001b[39m.\u001b[39mwebdriver)\u001b[39m.\u001b[39mmove_to_element( \\\n\u001b[1;32m     <a href='vscode-notebook-cell:/Users/menghuiwu/Desktop/ISM/HDB-EIP/checkBTOLimits.ipynb#X10sZmlsZQ%3D%3D?line=74'>75</a>\u001b[0m                 \u001b[39mself\u001b[39m\u001b[39m.\u001b[39mwebdriver\u001b[39m.\u001b[39mfind_element_by_xpath( \\\n\u001b[1;32m     <a href='vscode-notebook-cell:/Users/menghuiwu/Desktop/ISM/HDB-EIP/checkBTOLimits.ipynb#X10sZmlsZQ%3D%3D?line=75'>76</a>\u001b[0m                 \u001b[39m'\u001b[39m\u001b[39m//*[@id=\u001b[39m\u001b[39m\"\u001b[39m\u001b[39mprint\u001b[39m\u001b[39m\"\u001b[39m\u001b[39m]/div[3]/div/table/tbody/tr/td[2]\u001b[39m\u001b[39m'\u001b[39m))\u001b[39m.\u001b[39mperform()\n\u001b[1;32m     <a href='vscode-notebook-cell:/Users/menghuiwu/Desktop/ISM/HDB-EIP/checkBTOLimits.ipynb#X10sZmlsZQ%3D%3D?line=76'>77</a>\u001b[0m     \u001b[39mexcept\u001b[39;00m NoSuchFrameException:\n",
      "File \u001b[0;32m~/opt/anaconda3/envs/scraping/lib/python3.9/site-packages/selenium/webdriver/support/wait.py:80\u001b[0m, in \u001b[0;36mWebDriverWait.until\u001b[0;34m(self, method, message)\u001b[0m\n\u001b[1;32m     78\u001b[0m     \u001b[39mif\u001b[39;00m time\u001b[39m.\u001b[39mtime() \u001b[39m>\u001b[39m end_time:\n\u001b[1;32m     79\u001b[0m         \u001b[39mbreak\u001b[39;00m\n\u001b[0;32m---> 80\u001b[0m \u001b[39mraise\u001b[39;00m TimeoutException(message, screen, stacktrace)\n",
      "\u001b[0;31mTimeoutException\u001b[0m: Message: \n"
     ]
    }
   ],
   "source": [
    "# scraper = Scraper(url, data_source)\n",
    "# scraper.query_all()\n",
    "# scraper.properties.to_csv(\"bto_limits.csv\", index=False, encoding=\"ISO-8859-1\")"
   ]
  },
  {
   "cell_type": "code",
   "execution_count": 21,
   "metadata": {},
   "outputs": [],
   "source": [
    "# try:\n",
    "#     scraper.webdriver.quit()\n",
    "# except NameError:\n",
    "#     print(\"crawler not initialised\")\n",
    "# except MaxRetryError:\n",
    "#     print(\"crawler quitted / MaxRetryError\")\n",
    "# except InvalidSessionIdException:\n",
    "#     print(\"invalid ID\")\n",
    "# except SessionNotCreatedException:\n",
    "#     print(\"need to close session\")\n",
    "# except AttributeError:\n",
    "#     print(\"manually close\")\n",
    "\n",
    "# scraper = Scraper(url, data_source)\n",
    "# try:\n",
    "#     scraper.query_all()\n",
    "# finally:\n",
    "#     scraper.properties.to_csv(\"bto_limits.csv\", index=False, encoding=\"ISO-8859-1\")"
   ]
  },
  {
   "cell_type": "code",
   "execution_count": 36,
   "metadata": {},
   "outputs": [
    {
     "name": "stdout",
     "output_type": "stream",
     "text": [
      "0\n",
      "697\n",
      "697\n",
      "buyer 751126 chinese\n",
      "no such element :(\n",
      "1\n"
     ]
    },
    {
     "name": "stderr",
     "output_type": "stream",
     "text": [
      "[WDM] - Downloading: 16.2kB [00:00, 6.05MB/s]                   \n"
     ]
    },
    {
     "ename": "KeyboardInterrupt",
     "evalue": "",
     "output_type": "error",
     "traceback": [
      "\u001b[0;31m---------------------------------------------------------------------------\u001b[0m",
      "\u001b[0;31mKeyboardInterrupt\u001b[0m                         Traceback (most recent call last)",
      "\u001b[1;32m/Users/menghuiwu/Desktop/ISM/HDB-EIP/checkBTOLimits.ipynb Cell 6\u001b[0m in \u001b[0;36m<cell line: 1>\u001b[0;34m()\u001b[0m\n\u001b[1;32m      <a href='vscode-notebook-cell:/Users/menghuiwu/Desktop/ISM/HDB-EIP/checkBTOLimits.ipynb#W5sZmlsZQ%3D%3D?line=0'>1</a>\u001b[0m \u001b[39mfor\u001b[39;00m i \u001b[39min\u001b[39;00m \u001b[39mrange\u001b[39m(\u001b[39m100\u001b[39m):\n\u001b[1;32m      <a href='vscode-notebook-cell:/Users/menghuiwu/Desktop/ISM/HDB-EIP/checkBTOLimits.ipynb#W5sZmlsZQ%3D%3D?line=1'>2</a>\u001b[0m     \u001b[39mprint\u001b[39m(i)\n\u001b[0;32m----> <a href='vscode-notebook-cell:/Users/menghuiwu/Desktop/ISM/HDB-EIP/checkBTOLimits.ipynb#W5sZmlsZQ%3D%3D?line=2'>3</a>\u001b[0m     scraper \u001b[39m=\u001b[39m Scraper(url, data_source)\n\u001b[1;32m      <a href='vscode-notebook-cell:/Users/menghuiwu/Desktop/ISM/HDB-EIP/checkBTOLimits.ipynb#W5sZmlsZQ%3D%3D?line=3'>4</a>\u001b[0m     \u001b[39mtry\u001b[39;00m:\n\u001b[1;32m      <a href='vscode-notebook-cell:/Users/menghuiwu/Desktop/ISM/HDB-EIP/checkBTOLimits.ipynb#W5sZmlsZQ%3D%3D?line=4'>5</a>\u001b[0m         scraper\u001b[39m.\u001b[39mquery_all()\n",
      "\u001b[1;32m/Users/menghuiwu/Desktop/ISM/HDB-EIP/checkBTOLimits.ipynb Cell 6\u001b[0m in \u001b[0;36mScraper.__init__\u001b[0;34m(self, url, data_source)\u001b[0m\n\u001b[1;32m      <a href='vscode-notebook-cell:/Users/menghuiwu/Desktop/ISM/HDB-EIP/checkBTOLimits.ipynb#W5sZmlsZQ%3D%3D?line=8'>9</a>\u001b[0m \u001b[39m# self.webdriver: webdriver.Chrome = webdriver.Chrome(ChromeDriverManager().install(), options=options)\u001b[39;00m\n\u001b[1;32m     <a href='vscode-notebook-cell:/Users/menghuiwu/Desktop/ISM/HDB-EIP/checkBTOLimits.ipynb#W5sZmlsZQ%3D%3D?line=9'>10</a>\u001b[0m \u001b[39mself\u001b[39m\u001b[39m.\u001b[39mwebdriver\u001b[39m.\u001b[39mset_window_size(\u001b[39m2000\u001b[39m, \u001b[39m1000\u001b[39m)\n\u001b[0;32m---> <a href='vscode-notebook-cell:/Users/menghuiwu/Desktop/ISM/HDB-EIP/checkBTOLimits.ipynb#W5sZmlsZQ%3D%3D?line=10'>11</a>\u001b[0m \u001b[39mself\u001b[39;49m\u001b[39m.\u001b[39;49mwebdriver\u001b[39m.\u001b[39;49mget(url)\n\u001b[1;32m     <a href='vscode-notebook-cell:/Users/menghuiwu/Desktop/ISM/HDB-EIP/checkBTOLimits.ipynb#W5sZmlsZQ%3D%3D?line=11'>12</a>\u001b[0m \u001b[39mself\u001b[39m\u001b[39m.\u001b[39mwebdriver\u001b[39m.\u001b[39mimplicitly_wait(\u001b[39m2\u001b[39m)\n\u001b[1;32m     <a href='vscode-notebook-cell:/Users/menghuiwu/Desktop/ISM/HDB-EIP/checkBTOLimits.ipynb#W5sZmlsZQ%3D%3D?line=12'>13</a>\u001b[0m \u001b[39mself\u001b[39m\u001b[39m.\u001b[39mproperties \u001b[39m=\u001b[39m pd\u001b[39m.\u001b[39mread_csv(data_source, \\\n\u001b[1;32m     <a href='vscode-notebook-cell:/Users/menghuiwu/Desktop/ISM/HDB-EIP/checkBTOLimits.ipynb#W5sZmlsZQ%3D%3D?line=13'>14</a>\u001b[0m                                         engine\u001b[39m=\u001b[39m\u001b[39m'\u001b[39m\u001b[39mpython\u001b[39m\u001b[39m'\u001b[39m, \\\n\u001b[1;32m     <a href='vscode-notebook-cell:/Users/menghuiwu/Desktop/ISM/HDB-EIP/checkBTOLimits.ipynb#W5sZmlsZQ%3D%3D?line=14'>15</a>\u001b[0m                                         encoding\u001b[39m=\u001b[39m\u001b[39m\"\u001b[39m\u001b[39mISO-8859-1\u001b[39m\u001b[39m\"\u001b[39m,\n\u001b[1;32m     <a href='vscode-notebook-cell:/Users/menghuiwu/Desktop/ISM/HDB-EIP/checkBTOLimits.ipynb#W5sZmlsZQ%3D%3D?line=15'>16</a>\u001b[0m                                         header\u001b[39m=\u001b[39m\u001b[39m0\u001b[39m)\n",
      "File \u001b[0;32m~/opt/anaconda3/envs/scraping/lib/python3.9/site-packages/selenium/webdriver/remote/webdriver.py:333\u001b[0m, in \u001b[0;36mWebDriver.get\u001b[0;34m(self, url)\u001b[0m\n\u001b[1;32m    329\u001b[0m \u001b[39mdef\u001b[39;00m \u001b[39mget\u001b[39m(\u001b[39mself\u001b[39m, url):\n\u001b[1;32m    330\u001b[0m     \u001b[39m\"\"\"\u001b[39;00m\n\u001b[1;32m    331\u001b[0m \u001b[39m    Loads a web page in the current browser session.\u001b[39;00m\n\u001b[1;32m    332\u001b[0m \u001b[39m    \"\"\"\u001b[39;00m\n\u001b[0;32m--> 333\u001b[0m     \u001b[39mself\u001b[39;49m\u001b[39m.\u001b[39;49mexecute(Command\u001b[39m.\u001b[39;49mGET, {\u001b[39m'\u001b[39;49m\u001b[39murl\u001b[39;49m\u001b[39m'\u001b[39;49m: url})\n",
      "File \u001b[0;32m~/opt/anaconda3/envs/scraping/lib/python3.9/site-packages/selenium/webdriver/remote/webdriver.py:319\u001b[0m, in \u001b[0;36mWebDriver.execute\u001b[0;34m(self, driver_command, params)\u001b[0m\n\u001b[1;32m    316\u001b[0m         params[\u001b[39m'\u001b[39m\u001b[39msessionId\u001b[39m\u001b[39m'\u001b[39m] \u001b[39m=\u001b[39m \u001b[39mself\u001b[39m\u001b[39m.\u001b[39msession_id\n\u001b[1;32m    318\u001b[0m params \u001b[39m=\u001b[39m \u001b[39mself\u001b[39m\u001b[39m.\u001b[39m_wrap_value(params)\n\u001b[0;32m--> 319\u001b[0m response \u001b[39m=\u001b[39m \u001b[39mself\u001b[39;49m\u001b[39m.\u001b[39;49mcommand_executor\u001b[39m.\u001b[39;49mexecute(driver_command, params)\n\u001b[1;32m    320\u001b[0m \u001b[39mif\u001b[39;00m response:\n\u001b[1;32m    321\u001b[0m     \u001b[39mself\u001b[39m\u001b[39m.\u001b[39merror_handler\u001b[39m.\u001b[39mcheck_response(response)\n",
      "File \u001b[0;32m~/opt/anaconda3/envs/scraping/lib/python3.9/site-packages/selenium/webdriver/remote/remote_connection.py:374\u001b[0m, in \u001b[0;36mRemoteConnection.execute\u001b[0;34m(self, command, params)\u001b[0m\n\u001b[1;32m    372\u001b[0m data \u001b[39m=\u001b[39m utils\u001b[39m.\u001b[39mdump_json(params)\n\u001b[1;32m    373\u001b[0m url \u001b[39m=\u001b[39m \u001b[39m'\u001b[39m\u001b[39m%s\u001b[39;00m\u001b[39m%s\u001b[39;00m\u001b[39m'\u001b[39m \u001b[39m%\u001b[39m (\u001b[39mself\u001b[39m\u001b[39m.\u001b[39m_url, path)\n\u001b[0;32m--> 374\u001b[0m \u001b[39mreturn\u001b[39;00m \u001b[39mself\u001b[39;49m\u001b[39m.\u001b[39;49m_request(command_info[\u001b[39m0\u001b[39;49m], url, body\u001b[39m=\u001b[39;49mdata)\n",
      "File \u001b[0;32m~/opt/anaconda3/envs/scraping/lib/python3.9/site-packages/selenium/webdriver/remote/remote_connection.py:397\u001b[0m, in \u001b[0;36mRemoteConnection._request\u001b[0;34m(self, method, url, body)\u001b[0m\n\u001b[1;32m    394\u001b[0m     body \u001b[39m=\u001b[39m \u001b[39mNone\u001b[39;00m\n\u001b[1;32m    396\u001b[0m \u001b[39mif\u001b[39;00m \u001b[39mself\u001b[39m\u001b[39m.\u001b[39mkeep_alive:\n\u001b[0;32m--> 397\u001b[0m     resp \u001b[39m=\u001b[39m \u001b[39mself\u001b[39;49m\u001b[39m.\u001b[39;49m_conn\u001b[39m.\u001b[39;49mrequest(method, url, body\u001b[39m=\u001b[39;49mbody, headers\u001b[39m=\u001b[39;49mheaders)\n\u001b[1;32m    399\u001b[0m     statuscode \u001b[39m=\u001b[39m resp\u001b[39m.\u001b[39mstatus\n\u001b[1;32m    400\u001b[0m \u001b[39melse\u001b[39;00m:\n",
      "File \u001b[0;32m~/opt/anaconda3/envs/scraping/lib/python3.9/site-packages/urllib3/request.py:78\u001b[0m, in \u001b[0;36mRequestMethods.request\u001b[0;34m(self, method, url, fields, headers, **urlopen_kw)\u001b[0m\n\u001b[1;32m     74\u001b[0m     \u001b[39mreturn\u001b[39;00m \u001b[39mself\u001b[39m\u001b[39m.\u001b[39mrequest_encode_url(\n\u001b[1;32m     75\u001b[0m         method, url, fields\u001b[39m=\u001b[39mfields, headers\u001b[39m=\u001b[39mheaders, \u001b[39m*\u001b[39m\u001b[39m*\u001b[39murlopen_kw\n\u001b[1;32m     76\u001b[0m     )\n\u001b[1;32m     77\u001b[0m \u001b[39melse\u001b[39;00m:\n\u001b[0;32m---> 78\u001b[0m     \u001b[39mreturn\u001b[39;00m \u001b[39mself\u001b[39;49m\u001b[39m.\u001b[39;49mrequest_encode_body(\n\u001b[1;32m     79\u001b[0m         method, url, fields\u001b[39m=\u001b[39;49mfields, headers\u001b[39m=\u001b[39;49mheaders, \u001b[39m*\u001b[39;49m\u001b[39m*\u001b[39;49murlopen_kw\n\u001b[1;32m     80\u001b[0m     )\n",
      "File \u001b[0;32m~/opt/anaconda3/envs/scraping/lib/python3.9/site-packages/urllib3/request.py:170\u001b[0m, in \u001b[0;36mRequestMethods.request_encode_body\u001b[0;34m(self, method, url, fields, headers, encode_multipart, multipart_boundary, **urlopen_kw)\u001b[0m\n\u001b[1;32m    167\u001b[0m extra_kw[\u001b[39m\"\u001b[39m\u001b[39mheaders\u001b[39m\u001b[39m\"\u001b[39m]\u001b[39m.\u001b[39mupdate(headers)\n\u001b[1;32m    168\u001b[0m extra_kw\u001b[39m.\u001b[39mupdate(urlopen_kw)\n\u001b[0;32m--> 170\u001b[0m \u001b[39mreturn\u001b[39;00m \u001b[39mself\u001b[39;49m\u001b[39m.\u001b[39;49murlopen(method, url, \u001b[39m*\u001b[39;49m\u001b[39m*\u001b[39;49mextra_kw)\n",
      "File \u001b[0;32m~/opt/anaconda3/envs/scraping/lib/python3.9/site-packages/urllib3/poolmanager.py:376\u001b[0m, in \u001b[0;36mPoolManager.urlopen\u001b[0;34m(self, method, url, redirect, **kw)\u001b[0m\n\u001b[1;32m    374\u001b[0m     response \u001b[39m=\u001b[39m conn\u001b[39m.\u001b[39murlopen(method, url, \u001b[39m*\u001b[39m\u001b[39m*\u001b[39mkw)\n\u001b[1;32m    375\u001b[0m \u001b[39melse\u001b[39;00m:\n\u001b[0;32m--> 376\u001b[0m     response \u001b[39m=\u001b[39m conn\u001b[39m.\u001b[39;49murlopen(method, u\u001b[39m.\u001b[39;49mrequest_uri, \u001b[39m*\u001b[39;49m\u001b[39m*\u001b[39;49mkw)\n\u001b[1;32m    378\u001b[0m redirect_location \u001b[39m=\u001b[39m redirect \u001b[39mand\u001b[39;00m response\u001b[39m.\u001b[39mget_redirect_location()\n\u001b[1;32m    379\u001b[0m \u001b[39mif\u001b[39;00m \u001b[39mnot\u001b[39;00m redirect_location:\n",
      "File \u001b[0;32m~/opt/anaconda3/envs/scraping/lib/python3.9/site-packages/urllib3/connectionpool.py:703\u001b[0m, in \u001b[0;36mHTTPConnectionPool.urlopen\u001b[0;34m(self, method, url, body, headers, retries, redirect, assert_same_host, timeout, pool_timeout, release_conn, chunked, body_pos, **response_kw)\u001b[0m\n\u001b[1;32m    700\u001b[0m     \u001b[39mself\u001b[39m\u001b[39m.\u001b[39m_prepare_proxy(conn)\n\u001b[1;32m    702\u001b[0m \u001b[39m# Make the request on the httplib connection object.\u001b[39;00m\n\u001b[0;32m--> 703\u001b[0m httplib_response \u001b[39m=\u001b[39m \u001b[39mself\u001b[39;49m\u001b[39m.\u001b[39;49m_make_request(\n\u001b[1;32m    704\u001b[0m     conn,\n\u001b[1;32m    705\u001b[0m     method,\n\u001b[1;32m    706\u001b[0m     url,\n\u001b[1;32m    707\u001b[0m     timeout\u001b[39m=\u001b[39;49mtimeout_obj,\n\u001b[1;32m    708\u001b[0m     body\u001b[39m=\u001b[39;49mbody,\n\u001b[1;32m    709\u001b[0m     headers\u001b[39m=\u001b[39;49mheaders,\n\u001b[1;32m    710\u001b[0m     chunked\u001b[39m=\u001b[39;49mchunked,\n\u001b[1;32m    711\u001b[0m )\n\u001b[1;32m    713\u001b[0m \u001b[39m# If we're going to release the connection in ``finally:``, then\u001b[39;00m\n\u001b[1;32m    714\u001b[0m \u001b[39m# the response doesn't need to know about the connection. Otherwise\u001b[39;00m\n\u001b[1;32m    715\u001b[0m \u001b[39m# it will also try to release it and we'll have a double-release\u001b[39;00m\n\u001b[1;32m    716\u001b[0m \u001b[39m# mess.\u001b[39;00m\n\u001b[1;32m    717\u001b[0m response_conn \u001b[39m=\u001b[39m conn \u001b[39mif\u001b[39;00m \u001b[39mnot\u001b[39;00m release_conn \u001b[39melse\u001b[39;00m \u001b[39mNone\u001b[39;00m\n",
      "File \u001b[0;32m~/opt/anaconda3/envs/scraping/lib/python3.9/site-packages/urllib3/connectionpool.py:449\u001b[0m, in \u001b[0;36mHTTPConnectionPool._make_request\u001b[0;34m(self, conn, method, url, timeout, chunked, **httplib_request_kw)\u001b[0m\n\u001b[1;32m    444\u001b[0m             httplib_response \u001b[39m=\u001b[39m conn\u001b[39m.\u001b[39mgetresponse()\n\u001b[1;32m    445\u001b[0m         \u001b[39mexcept\u001b[39;00m \u001b[39mBaseException\u001b[39;00m \u001b[39mas\u001b[39;00m e:\n\u001b[1;32m    446\u001b[0m             \u001b[39m# Remove the TypeError from the exception chain in\u001b[39;00m\n\u001b[1;32m    447\u001b[0m             \u001b[39m# Python 3 (including for exceptions like SystemExit).\u001b[39;00m\n\u001b[1;32m    448\u001b[0m             \u001b[39m# Otherwise it looks like a bug in the code.\u001b[39;00m\n\u001b[0;32m--> 449\u001b[0m             six\u001b[39m.\u001b[39;49mraise_from(e, \u001b[39mNone\u001b[39;49;00m)\n\u001b[1;32m    450\u001b[0m \u001b[39mexcept\u001b[39;00m (SocketTimeout, BaseSSLError, SocketError) \u001b[39mas\u001b[39;00m e:\n\u001b[1;32m    451\u001b[0m     \u001b[39mself\u001b[39m\u001b[39m.\u001b[39m_raise_timeout(err\u001b[39m=\u001b[39me, url\u001b[39m=\u001b[39murl, timeout_value\u001b[39m=\u001b[39mread_timeout)\n",
      "File \u001b[0;32m<string>:3\u001b[0m, in \u001b[0;36mraise_from\u001b[0;34m(value, from_value)\u001b[0m\n",
      "File \u001b[0;32m~/opt/anaconda3/envs/scraping/lib/python3.9/site-packages/urllib3/connectionpool.py:444\u001b[0m, in \u001b[0;36mHTTPConnectionPool._make_request\u001b[0;34m(self, conn, method, url, timeout, chunked, **httplib_request_kw)\u001b[0m\n\u001b[1;32m    441\u001b[0m \u001b[39mexcept\u001b[39;00m \u001b[39mTypeError\u001b[39;00m:\n\u001b[1;32m    442\u001b[0m     \u001b[39m# Python 3\u001b[39;00m\n\u001b[1;32m    443\u001b[0m     \u001b[39mtry\u001b[39;00m:\n\u001b[0;32m--> 444\u001b[0m         httplib_response \u001b[39m=\u001b[39m conn\u001b[39m.\u001b[39;49mgetresponse()\n\u001b[1;32m    445\u001b[0m     \u001b[39mexcept\u001b[39;00m \u001b[39mBaseException\u001b[39;00m \u001b[39mas\u001b[39;00m e:\n\u001b[1;32m    446\u001b[0m         \u001b[39m# Remove the TypeError from the exception chain in\u001b[39;00m\n\u001b[1;32m    447\u001b[0m         \u001b[39m# Python 3 (including for exceptions like SystemExit).\u001b[39;00m\n\u001b[1;32m    448\u001b[0m         \u001b[39m# Otherwise it looks like a bug in the code.\u001b[39;00m\n\u001b[1;32m    449\u001b[0m         six\u001b[39m.\u001b[39mraise_from(e, \u001b[39mNone\u001b[39;00m)\n",
      "File \u001b[0;32m~/opt/anaconda3/envs/scraping/lib/python3.9/http/client.py:1377\u001b[0m, in \u001b[0;36mHTTPConnection.getresponse\u001b[0;34m(self)\u001b[0m\n\u001b[1;32m   1375\u001b[0m \u001b[39mtry\u001b[39;00m:\n\u001b[1;32m   1376\u001b[0m     \u001b[39mtry\u001b[39;00m:\n\u001b[0;32m-> 1377\u001b[0m         response\u001b[39m.\u001b[39;49mbegin()\n\u001b[1;32m   1378\u001b[0m     \u001b[39mexcept\u001b[39;00m \u001b[39mConnectionError\u001b[39;00m:\n\u001b[1;32m   1379\u001b[0m         \u001b[39mself\u001b[39m\u001b[39m.\u001b[39mclose()\n",
      "File \u001b[0;32m~/opt/anaconda3/envs/scraping/lib/python3.9/http/client.py:320\u001b[0m, in \u001b[0;36mHTTPResponse.begin\u001b[0;34m(self)\u001b[0m\n\u001b[1;32m    318\u001b[0m \u001b[39m# read until we get a non-100 response\u001b[39;00m\n\u001b[1;32m    319\u001b[0m \u001b[39mwhile\u001b[39;00m \u001b[39mTrue\u001b[39;00m:\n\u001b[0;32m--> 320\u001b[0m     version, status, reason \u001b[39m=\u001b[39m \u001b[39mself\u001b[39;49m\u001b[39m.\u001b[39;49m_read_status()\n\u001b[1;32m    321\u001b[0m     \u001b[39mif\u001b[39;00m status \u001b[39m!=\u001b[39m CONTINUE:\n\u001b[1;32m    322\u001b[0m         \u001b[39mbreak\u001b[39;00m\n",
      "File \u001b[0;32m~/opt/anaconda3/envs/scraping/lib/python3.9/http/client.py:281\u001b[0m, in \u001b[0;36mHTTPResponse._read_status\u001b[0;34m(self)\u001b[0m\n\u001b[1;32m    280\u001b[0m \u001b[39mdef\u001b[39;00m \u001b[39m_read_status\u001b[39m(\u001b[39mself\u001b[39m):\n\u001b[0;32m--> 281\u001b[0m     line \u001b[39m=\u001b[39m \u001b[39mstr\u001b[39m(\u001b[39mself\u001b[39;49m\u001b[39m.\u001b[39;49mfp\u001b[39m.\u001b[39;49mreadline(_MAXLINE \u001b[39m+\u001b[39;49m \u001b[39m1\u001b[39;49m), \u001b[39m\"\u001b[39m\u001b[39miso-8859-1\u001b[39m\u001b[39m\"\u001b[39m)\n\u001b[1;32m    282\u001b[0m     \u001b[39mif\u001b[39;00m \u001b[39mlen\u001b[39m(line) \u001b[39m>\u001b[39m _MAXLINE:\n\u001b[1;32m    283\u001b[0m         \u001b[39mraise\u001b[39;00m LineTooLong(\u001b[39m\"\u001b[39m\u001b[39mstatus line\u001b[39m\u001b[39m\"\u001b[39m)\n",
      "File \u001b[0;32m~/opt/anaconda3/envs/scraping/lib/python3.9/socket.py:704\u001b[0m, in \u001b[0;36mSocketIO.readinto\u001b[0;34m(self, b)\u001b[0m\n\u001b[1;32m    702\u001b[0m \u001b[39mwhile\u001b[39;00m \u001b[39mTrue\u001b[39;00m:\n\u001b[1;32m    703\u001b[0m     \u001b[39mtry\u001b[39;00m:\n\u001b[0;32m--> 704\u001b[0m         \u001b[39mreturn\u001b[39;00m \u001b[39mself\u001b[39;49m\u001b[39m.\u001b[39;49m_sock\u001b[39m.\u001b[39;49mrecv_into(b)\n\u001b[1;32m    705\u001b[0m     \u001b[39mexcept\u001b[39;00m timeout:\n\u001b[1;32m    706\u001b[0m         \u001b[39mself\u001b[39m\u001b[39m.\u001b[39m_timeout_occurred \u001b[39m=\u001b[39m \u001b[39mTrue\u001b[39;00m\n",
      "\u001b[0;31mKeyboardInterrupt\u001b[0m: "
     ]
    }
   ],
   "source": [
    "for i in range(100):\n",
    "    print(i)\n",
    "    scraper = Scraper(url, data_source)\n",
    "    try:\n",
    "        scraper.query_all()\n",
    "    # except TimeoutException:\n",
    "    #     print(\"timeout :(\")\n",
    "    except NoSuchElementException:\n",
    "        print(\"no such element :(\")\n",
    "    except NoSuchFrameException:\n",
    "        print(\"no such frame :(\")\n",
    "    finally:\n",
    "        scraper.properties.to_csv(\"bto_limits.csv\", index=False, encoding=\"ISO-8859-1\")\n",
    "        scraper.webdriver.quit()"
   ]
  },
  {
   "cell_type": "code",
   "execution_count": null,
   "metadata": {},
   "outputs": [],
   "source": []
  }
 ],
 "metadata": {
  "kernelspec": {
   "display_name": "Python 3.9.12 ('scraping')",
   "language": "python",
   "name": "python3"
  },
  "language_info": {
   "codemirror_mode": {
    "name": "ipython",
    "version": 3
   },
   "file_extension": ".py",
   "mimetype": "text/x-python",
   "name": "python",
   "nbconvert_exporter": "python",
   "pygments_lexer": "ipython3",
   "version": "3.9.12"
  },
  "orig_nbformat": 4,
  "vscode": {
   "interpreter": {
    "hash": "633e9060f6cc1675156fa22c190b0a33b3ab16b499ed8d726a746c2ed8f7a814"
   }
  }
 },
 "nbformat": 4,
 "nbformat_minor": 2
}
